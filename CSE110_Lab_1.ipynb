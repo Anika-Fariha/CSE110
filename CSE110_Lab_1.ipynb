{
  "nbformat": 4,
  "nbformat_minor": 0,
  "metadata": {
    "colab": {
      "provenance": []
    },
    "kernelspec": {
      "name": "python3",
      "display_name": "Python 3"
    },
    "language_info": {
      "name": "python"
    }
  },
  "cells": [
    {
      "cell_type": "markdown",
      "source": [
        "Task 1\n"
      ],
      "metadata": {
        "id": "DeJl__t_EgoU"
      }
    },
    {
      "cell_type": "code",
      "execution_count": null,
      "metadata": {
        "colab": {
          "base_uri": "https://localhost:8080/"
        },
        "id": "HzplvMOG50Vb",
        "outputId": "80909968-8578-4e4d-8287-ed08e6e1a9e3"
      },
      "outputs": [
        {
          "output_type": "stream",
          "name": "stdout",
          "text": [
            "hello world\n"
          ]
        }
      ],
      "source": [
        "print('hello world')"
      ]
    },
    {
      "cell_type": "markdown",
      "source": [
        "Task 2"
      ],
      "metadata": {
        "id": "n3G9eXudElML"
      }
    },
    {
      "cell_type": "code",
      "source": [
        "sum=54+56\n",
        "print(sum)"
      ],
      "metadata": {
        "colab": {
          "base_uri": "https://localhost:8080/"
        },
        "id": "a0OqBVkD6RgZ",
        "outputId": "ca02a142-4c85-48d4-9073-8a9c277b3bf9"
      },
      "execution_count": null,
      "outputs": [
        {
          "output_type": "stream",
          "name": "stdout",
          "text": [
            "110\n"
          ]
        }
      ]
    },
    {
      "cell_type": "markdown",
      "source": [
        "Task 3"
      ],
      "metadata": {
        "id": "p9ccDfc1Epdc"
      }
    },
    {
      "cell_type": "code",
      "source": [
        "season='Fall'\n",
        "year=2022\n",
        "print(season)\n",
        "print(year)"
      ],
      "metadata": {
        "colab": {
          "base_uri": "https://localhost:8080/"
        },
        "id": "STqz22Sj6-lh",
        "outputId": "31cb425d-52c0-4ecf-8723-3ae9bb35e789"
      },
      "execution_count": null,
      "outputs": [
        {
          "output_type": "stream",
          "name": "stdout",
          "text": [
            "Fall\n",
            "2022\n"
          ]
        }
      ]
    },
    {
      "cell_type": "markdown",
      "source": [
        "Task 4"
      ],
      "metadata": {
        "id": "jQAMQTEZEsdD"
      }
    },
    {
      "cell_type": "code",
      "source": [
        "name=input('Sir, please enter a name: ')\n",
        "print(f'Your name is {name}')"
      ],
      "metadata": {
        "colab": {
          "base_uri": "https://localhost:8080/"
        },
        "id": "UKVwKgw27dQw",
        "outputId": "ec832e19-d818-45be-f64d-55bf5dbf6b4e"
      },
      "execution_count": null,
      "outputs": [
        {
          "output_type": "stream",
          "name": "stdout",
          "text": [
            "Sir, please enter a name: John\n",
            "Your name is John\n"
          ]
        }
      ]
    },
    {
      "cell_type": "markdown",
      "source": [
        "Task 5"
      ],
      "metadata": {
        "id": "qvoQjw2wEv87"
      }
    },
    {
      "cell_type": "code",
      "source": [
        "M=int(input('Sir, please enter an integer: '))\n",
        "N=int(input('Sir, please enter an integer: '))\n",
        "answer= M**N\n",
        "print(f'{M}^{N} : {answer}')"
      ],
      "metadata": {
        "colab": {
          "base_uri": "https://localhost:8080/"
        },
        "id": "YJfiYLVf82wi",
        "outputId": "8ba1b8fc-3f54-47a6-a4ec-65bf72b03b6e"
      },
      "execution_count": null,
      "outputs": [
        {
          "output_type": "stream",
          "name": "stdout",
          "text": [
            "Sir, please enter an integer: 5\n",
            "Sir, please enter an integer: 6\n",
            "5^6 : 15625\n"
          ]
        }
      ]
    },
    {
      "cell_type": "markdown",
      "source": [
        "Task 6"
      ],
      "metadata": {
        "id": "L-z0c1VmE1Os"
      }
    },
    {
      "cell_type": "code",
      "source": [
        "goods=int(input('Sir, please enter the maximum weight of goods: '))\n",
        "max_goods= goods-goods%4\n",
        "print(max_goods)"
      ],
      "metadata": {
        "colab": {
          "base_uri": "https://localhost:8080/"
        },
        "id": "qorJKiyn-mXK",
        "outputId": "7e7f863b-f57e-4623-e9d3-8f89272cf0b0"
      },
      "execution_count": null,
      "outputs": [
        {
          "output_type": "stream",
          "name": "stdout",
          "text": [
            "Sir, please enter the maximum weight of goods: 56\n",
            "56\n"
          ]
        }
      ]
    },
    {
      "cell_type": "markdown",
      "source": [
        "Task 7"
      ],
      "metadata": {
        "id": "-3izMvTjFF8x"
      }
    },
    {
      "cell_type": "code",
      "source": [
        "A=int(input('Sir, please enter a number: '))\n",
        "B=int(input('Sir, please enter a number: '))\n",
        "C=int(input('Sir, please enter a number: '))\n",
        "D=float(input('Sir, please enter a number: '))\n",
        "answer= int(A**C+B*A-(D/3))\n",
        "print(answer)"
      ],
      "metadata": {
        "colab": {
          "base_uri": "https://localhost:8080/"
        },
        "id": "EhRT-j7BBPmQ",
        "outputId": "6a612159-cb0d-4b63-d042-5c463b3652ac"
      },
      "execution_count": null,
      "outputs": [
        {
          "output_type": "stream",
          "name": "stdout",
          "text": [
            "Sir, please enter a number: 5\n",
            "Sir, please enter a number: 6\n",
            "Sir, please enter a number: 7\n",
            "Sir, please enter a number: 4.3\n",
            "78153\n"
          ]
        }
      ]
    },
    {
      "cell_type": "markdown",
      "source": [
        "Task 8"
      ],
      "metadata": {
        "id": "BIS4GQ5hFIn5"
      }
    },
    {
      "cell_type": "code",
      "source": [
        "chocolates=int(input('Sir, please enter the total number of chocolates: '))\n",
        "received= chocolates//3\n",
        "remainder=chocolates%3\n",
        "print(f'Each friend will recieve {received} chocolates')\n",
        "print(f'The number of remaining chocolates is {remainder}')"
      ],
      "metadata": {
        "colab": {
          "base_uri": "https://localhost:8080/"
        },
        "id": "j_xTzk_8CaT8",
        "outputId": "cc5e23d0-7ae5-4b39-fa4d-ef4f997cb676"
      },
      "execution_count": null,
      "outputs": [
        {
          "output_type": "stream",
          "name": "stdout",
          "text": [
            "Sir, please enter the total number of chocolates: 5\n",
            "Each friend will recieve 1 chocolates\n",
            "The number of remaining chocolates is 2\n"
          ]
        }
      ]
    },
    {
      "cell_type": "markdown",
      "source": [
        "Task 9"
      ],
      "metadata": {
        "id": "wT5atVxwFaE5"
      }
    },
    {
      "cell_type": "code",
      "source": [
        "M=input('Sir, please enter a string: ')\n",
        "N=input('Sir, please enter a string: ')\n",
        "answer=N+M\n",
        "print(answer)"
      ],
      "metadata": {
        "colab": {
          "base_uri": "https://localhost:8080/"
        },
        "id": "opKK0Sc_FLby",
        "outputId": "26d481ab-ccfd-4b26-db4e-b32332522159"
      },
      "execution_count": null,
      "outputs": [
        {
          "output_type": "stream",
          "name": "stdout",
          "text": [
            "Sir, please enter a string: I am cute\n",
            "Sir, please enter a string: hello\n",
            "helloI am cute\n"
          ]
        }
      ]
    },
    {
      "cell_type": "markdown",
      "source": [
        "Task 10"
      ],
      "metadata": {
        "id": "fsA1OuoBGH2X"
      }
    },
    {
      "cell_type": "code",
      "source": [
        "line=input('Sir, please enter a string: ')\n",
        "print(line[0])"
      ],
      "metadata": {
        "colab": {
          "base_uri": "https://localhost:8080/"
        },
        "id": "QptHo8J8GKYW",
        "outputId": "33562249-6b26-4258-dd43-2b73a10c23f0"
      },
      "execution_count": null,
      "outputs": [
        {
          "output_type": "stream",
          "name": "stdout",
          "text": [
            "Sir, please enter a string: cutie Rafo\n",
            "c\n"
          ]
        }
      ]
    },
    {
      "cell_type": "markdown",
      "source": [
        "Task 11"
      ],
      "metadata": {
        "id": "J0qyaou6GOSF"
      }
    },
    {
      "cell_type": "code",
      "source": [
        "number=int(input('Sir, please enter a number: '))\n",
        "if number%2==0:\n",
        "    print('True')\n",
        "else:\n",
        "    print('False')    \n"
      ],
      "metadata": {
        "colab": {
          "base_uri": "https://localhost:8080/"
        },
        "id": "O_P_1-J9GQXd",
        "outputId": "f43bf8f5-5a91-4ce1-acd6-3f540ff4ee2e"
      },
      "execution_count": null,
      "outputs": [
        {
          "output_type": "stream",
          "name": "stdout",
          "text": [
            "Sir, please enter a number: 23\n",
            "False\n"
          ]
        }
      ]
    }
  ]
}